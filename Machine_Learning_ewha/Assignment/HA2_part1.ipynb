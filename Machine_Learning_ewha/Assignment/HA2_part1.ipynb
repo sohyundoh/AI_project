{
  "nbformat": 4,
  "nbformat_minor": 0,
  "metadata": {
    "colab": {
      "provenance": [],
      "collapsed_sections": [
        "Ic82tzSD3koA"
      ]
    },
    "kernelspec": {
      "name": "python3",
      "display_name": "Python 3"
    },
    "language_info": {
      "name": "python"
    }
  },
  "cells": [
    {
      "cell_type": "markdown",
      "source": [
        "# Hands-On Assignment 2 (Part 1)\n",
        "\n",
        "2-1. Decision trees with Breast cancer dataset\n",
        "\n",
        "2-2. Random Forest with Titanic dataset\n",
        "\n",
        "## After finishing writing the code for each problem, submit your ipynb file (i.e., this file) to Cybercampus by **12/2 Friday 23:59**"
      ],
      "metadata": {
        "id": "zYQ8ICaD75-r"
      }
    },
    {
      "cell_type": "markdown",
      "source": [
        "### Submitters are as follows.\n",
        " *Note that hands-on assignments can be done collaboratively (**up to 2 students**)*\n",
        "\n",
        "    Name: Sohyun Doh\n",
        "    Student ID: 2076120\n"
      ],
      "metadata": {
        "id": "C7uml-wJ8UXS"
      }
    },
    {
      "cell_type": "markdown",
      "source": [
        "\n",
        "\n",
        "---\n",
        "\n",
        "\n",
        "## 2-1. Decision trees with Breast cancer dataset\n",
        "\n",
        "\n",
        "---\n",
        "\n"
      ],
      "metadata": {
        "id": "tU43Df1H8ZhD"
      }
    },
    {
      "cell_type": "markdown",
      "source": [
        "Data importing"
      ],
      "metadata": {
        "id": "4gwhcxen8rre"
      }
    },
    {
      "cell_type": "code",
      "execution_count": 3,
      "metadata": {
        "id": "nHBNAgpI7z54"
      },
      "outputs": [],
      "source": [
        "import numpy as np\n",
        "from sklearn import datasets\n",
        "from sklearn.model_selection import train_test_split\n",
        "\n",
        "data = datasets.load_breast_cancer()\n",
        "X, y = data.data, data.target\n",
        "\n",
        "X_train, X_test, y_train, y_test = train_test_split(\n",
        "    X, y, test_size=0.2, random_state=1\n",
        ")"
      ]
    },
    {
      "cell_type": "markdown",
      "source": [
        "We learn the following Node and DecisionTree classes during the lab"
      ],
      "metadata": {
        "id": "rufDSSnj9Ja0"
      }
    },
    {
      "cell_type": "code",
      "source": [
        "\n",
        "class Node:\n",
        "    def __init__(self, feature=None, value=None, left=None, right=None, *, label=None):\n",
        "        self.feature = feature\n",
        "        self.value = value\n",
        "        self.left = left\n",
        "        self.right = right\n",
        "        self.label = label\n",
        "    \n",
        "    def is_leaf(self):\n",
        "        return self.label is not None\n",
        "  \n",
        "\n",
        "class DecisionTree:\n",
        "\n",
        "    def __init__(self, max_depth=100, min_samples_split=2):\n",
        "        self.max_depth = max_depth\n",
        "        self.min_samples_split = min_samples_split\n",
        "        self.root = None\n",
        "\n",
        "    def _stop(self, depth):\n",
        "        if (depth >= self.max_depth\n",
        "            or self.n_class_labels == 1\n",
        "            or self.n_samples < self.min_samples_split):\n",
        "            return True\n",
        "        return False\n",
        "    \n",
        "    def _entropy(self, y):\n",
        "        # np.bincount: Count number of occurrences of each value in array\n",
        "        weights = np.bincount(y) / len(y)\n",
        "        entropy = -np.sum([w * np.log2(w) for w in weights if w > 0])\n",
        "        return entropy\n",
        "    \n",
        "    def _expand_tree(self, X, value):\n",
        "\n",
        "        # np.argwhere: return indices of X which are less than and equal to value\n",
        "        # np.flatten: turn multi-dimensional data into vectors\n",
        "        left_idx = np.argwhere(X <= value).flatten()\n",
        "\n",
        "        # return indices of X which are greater than \n",
        "        right_idx = np.argwhere(X > value).flatten()\n",
        "        return left_idx, right_idx\n",
        "\n",
        "    # information_gain = parent_entropy - children_entropy\n",
        "    def _information_gain(self, X, y, value):\n",
        "            parent_entropy = self._entropy(y)\n",
        "\n",
        "            # expand the tree with X \n",
        "            left_idx, right_idx = self._expand_tree(X, value)\n",
        "\n",
        "            n, n_left, n_right = len(y), len(left_idx), len(right_idx)\n",
        "\n",
        "            if n_left == 0 or n_right == 0: \n",
        "                return 0\n",
        "            \n",
        "            # each node has two children (right child and left child)\n",
        "            children_entropy = (n_left / n) * self._entropy(y[left_idx]) + (n_right / n) * self._entropy(y[right_idx])\n",
        "            return parent_entropy - children_entropy\n",
        "    \n",
        "    def _best_split(self, X, y, features):\n",
        "        # create split dict in which we record score, feature, and value to keep the split yielding the maximum score \n",
        "        split = {'score':- 1, 'feat': None, 'value': None}\n",
        "\n",
        "        # for each column in 30 columns\n",
        "        for feat in features:\n",
        "            # select one feature column\n",
        "            # example: values in outlook column\n",
        "            X_feat = X[:, feat] \n",
        "\n",
        "            # np.unique: remove duplicates\n",
        "            # create values \n",
        "            values = np.unique(X_feat)\n",
        "\n",
        "            # for each value in the column\n",
        "            for value in values:\n",
        "                \n",
        "                # compute the information gain \n",
        "                score = self._information_gain(X_feat, y, value)\n",
        "\n",
        "                # Update the split with the maximum score\n",
        "                if score > split['score']:\n",
        "                    split['score'] = score\n",
        "                    split['feat'] = feat\n",
        "                    split['value'] = value\n",
        "                \n",
        "        # return the best split with the maximum score (i.e., information gain)\n",
        "        return split['feat'], split['value']\n",
        "    \n",
        "    def _build_tree(self, X, y, depth=0):\n",
        "        self.n_samples, self.n_features = X.shape\n",
        "        self.n_class_labels = len(np.unique(y))\n",
        "\n",
        "        # 1. Check whether go or stop: use stopping criteria using _stop function\n",
        "        if self._stop(depth):\n",
        "            most_common_Label = np.argmax(np.bincount(y))\n",
        "            return Node(label=most_common_Label)\n",
        "        \n",
        "        # 2. find the best split: get the best feature for the current node among 30 features\n",
        "        # random_f carries shuffled feature indices\n",
        "        random_f = np.random.choice(self.n_features, self.n_features, replace=False)\n",
        "        best_feat, best_value = self._best_split(X, y, random_f)\n",
        "\n",
        "        # 3. expand the tree: create the subtrees using the best split\n",
        "        left_idx, right_idx = self._expand_tree(X[:, best_feat], best_value)\n",
        "\n",
        "        # 4. grow the left subtree and right subtree recursively\n",
        "        left_child = self._build_tree(X[left_idx, :], y[left_idx], depth + 1)\n",
        "        right_child = self._build_tree(X[right_idx, :], y[right_idx], depth + 1)\n",
        "        return Node(best_feat, best_value, left_child, right_child)\n",
        "        \n",
        "    def fit(self, X, y):\n",
        "        self.root = self._build_tree(X, y)\n",
        "   \n",
        "    \n",
        "    # For the evaluation using the testing set, we need a traverse function\n",
        "    def _traverse_tree(self, x, node):\n",
        "        if node.is_leaf():\n",
        "            return node.label\n",
        "        \n",
        "        # recursively traverse the tree (left subtree)\n",
        "        # node.feature = feature index, so compare X to current node's value\n",
        "        if x[node.feature] <= node.value:\n",
        "            return self._traverse_tree(x, node.left)\n",
        "        \n",
        "        # recursively traverse the tree (right subtree)\n",
        "        return self._traverse_tree(x, node.right)\n",
        "    \n",
        "    def predict(self, X):\n",
        "        predictions = [self._traverse_tree(x, self.root) for x in X]\n",
        "        return np.array(predictions)"
      ],
      "metadata": {
        "id": "SPc5oLvw9OVo"
      },
      "execution_count": 4,
      "outputs": []
    },
    {
      "cell_type": "markdown",
      "source": [
        "## Goal: Change the \"DecisionTree\" class to use the gini importance (aka impurity) in the quality test for the node decision.\n",
        "❗❗READ CAREFULLY ⬇\n",
        "\n",
        "*   Use the classes provided in the lab\n",
        "*   Use the breast cancer dataset\n",
        "*   TO-DO:\n",
        "  1. Update the `DecisionTree` class to use `_gini_importance` and `impurity_decrease` rather than `_entropy` and `_information_gain`.\n",
        "  2. Train the Decision tree model using your updated `DecisionTree` class using `X_train`\n",
        "  3. Test the trained model using `X_test` and report the accuracy."
      ],
      "metadata": {
        "id": "6n2WfXC99bf9"
      }
    },
    {
      "cell_type": "markdown",
      "source": [
        "## Assignment"
      ],
      "metadata": {
        "id": "K4i4g3l6nKLy"
      }
    },
    {
      "cell_type": "markdown",
      "source": [
        "first, I have to redefine Node class"
      ],
      "metadata": {
        "id": "Bk2ddXJWO49e"
      }
    },
    {
      "cell_type": "code",
      "source": [
        "class Node:\n",
        "    def __init__(self, feature=None, value=None, left=None, right=None, *, label=None):\n",
        "        self.feature = feature\n",
        "        self.value = value\n",
        "        self.left = left\n",
        "        self.right = right\n",
        "        self.label = label\n",
        "    \n",
        "    def is_leaf(self):\n",
        "        return self.label is not None\n"
      ],
      "metadata": {
        "id": "pft5445l7YPq"
      },
      "execution_count": 5,
      "outputs": []
    },
    {
      "cell_type": "markdown",
      "source": [
        "1. Update the `DecisionTree` class to use `_gini_importance` and `impurity_decrease` rather than `_entropy` and `_imformation_gain`"
      ],
      "metadata": {
        "id": "Xgl2lHP9muLJ"
      }
    },
    {
      "cell_type": "code",
      "source": [
        "class DecisionTree:\n",
        "\n",
        "    def __init__(self, max_depth=100, min_samples_split=2):\n",
        "        self.max_depth = max_depth\n",
        "        self.min_samples_split = min_samples_split\n",
        "        self.root = None\n",
        "\n",
        "    def _stop(self, depth):\n",
        "        if (depth >= self.max_depth\n",
        "            or self.n_class_labels == 1\n",
        "            or self.n_samples < self.min_samples_split):\n",
        "            return True\n",
        "        return False\n",
        "    \n",
        "    def _gini_importance(self,y):\n",
        "        prob = np.bincount(y)/len(y)\n",
        "        gini = 1 - np.sum([p*p for p in prob if p>0])\n",
        "        return gini\n",
        "    \n",
        "    def _impurity_decrease(self, X, y, value):\n",
        "            parent_gini = self._gini_importance(y)\n",
        "\n",
        "            # expand the tree with X \n",
        "            left_idx, right_idx = self._expand_tree(X, value)\n",
        "\n",
        "            n, n_left, n_right = len(y), len(left_idx), len(right_idx)\n",
        "\n",
        "            if n_left == 0 or n_right == 0: \n",
        "                return 0\n",
        "            \n",
        "            # each node has two children (right child and left child)\n",
        "            children_gini = (n_left / n) * self._gini_importance(y[left_idx]) + (n_right / n) * self._gini_importance(y[right_idx])\n",
        "            return parent_gini - children_gini\n",
        "            \n",
        "    def _expand_tree(self, X, value):\n",
        "\n",
        "        # np.argwhere: return indices of X which are less than and equal to value\n",
        "        # np.flatten: turn multi-dimensional data into vectors\n",
        "        left_idx = np.argwhere(X <= value).flatten()\n",
        "\n",
        "        # return indices of X which are greater than \n",
        "        right_idx = np.argwhere(X > value).flatten()\n",
        "        return left_idx, right_idx\n",
        "\n",
        "    def _best_split(self, X, y, features):\n",
        "        # create split dict in which we record score, feature, and value to keep the split yielding the maximum score \n",
        "        split = {'score':- 1, 'feat': None, 'value': None}\n",
        "\n",
        "        # for each column in 30 columns\n",
        "        for feat in features:\n",
        "            # select one feature column\n",
        "            # example: values in outlook column\n",
        "            X_feat = X[:, feat] \n",
        "\n",
        "            # np.unique: remove duplicates\n",
        "            # create values \n",
        "            values = np.unique(X_feat)\n",
        "\n",
        "            # for each value in the column\n",
        "            for value in values:\n",
        "                \n",
        "                # compute the information gain \n",
        "                score = self._impurity_decrease(X_feat, y, value)\n",
        "\n",
        "                # Update the split with the maximum score\n",
        "                if score > split['score']:\n",
        "                    split['score'] = score\n",
        "                    split['feat'] = feat\n",
        "                    split['value'] = value\n",
        "                \n",
        "        # return the best split with the maximum score (i.e., information gain)\n",
        "        return split['feat'], split['value']\n",
        "    \n",
        "    def _build_tree(self, X, y, depth=0):\n",
        "        self.n_samples, self.n_features = X.shape\n",
        "        self.n_class_labels = len(np.unique(y))\n",
        "\n",
        "        # 1. Check whether go or stop: use stopping criteria using _stop function\n",
        "        if self._stop(depth):\n",
        "            most_common_Label = np.argmax(np.bincount(y))\n",
        "            return Node(label=most_common_Label)\n",
        "        \n",
        "        # 2. find the best split: get the best feature for the current node among 30 features\n",
        "        # random_f carries shuffled feature indices\n",
        "        random_f = np.random.choice(self.n_features, self.n_features, replace=False)\n",
        "        best_feat, best_value = self._best_split(X, y, random_f)\n",
        "\n",
        "        # 3. expand the tree: create the subtrees using the best split\n",
        "        left_idx, right_idx = self._expand_tree(X[:, best_feat], best_value)\n",
        "\n",
        "        # 4. grow the left subtree and right subtree recursively\n",
        "        left_child = self._build_tree(X[left_idx, :], y[left_idx], depth + 1)\n",
        "        right_child = self._build_tree(X[right_idx, :], y[right_idx], depth + 1)\n",
        "        return Node(best_feat, best_value, left_child, right_child)\n",
        "        \n",
        "    def fit(self, X, y):\n",
        "        self.root = self._build_tree(X, y)\n",
        "   \n",
        "    \n",
        "    # For the evaluation using the testing set, we need a traverse function\n",
        "    def _traverse_tree(self, x, node):\n",
        "        if node.is_leaf():\n",
        "            return node.label\n",
        "        \n",
        "        # recursively traverse the tree (left subtree)\n",
        "        # node.feature = feature index, so compare X to current node's value\n",
        "        if x[node.feature] <= node.value:\n",
        "            return self._traverse_tree(x, node.left)\n",
        "        \n",
        "        # recursively traverse the tree (right subtree)\n",
        "        return self._traverse_tree(x, node.right)\n",
        "    \n",
        "    def predict(self, X):\n",
        "        predictions = [self._traverse_tree(x, self.root) for x in X]\n",
        "        return np.array(predictions)"
      ],
      "metadata": {
        "id": "mSIOkhOhnRIy"
      },
      "execution_count": 6,
      "outputs": []
    },
    {
      "cell_type": "markdown",
      "source": [
        "2. Train the Decision tree model using your updated DecisionTree class using X_train"
      ],
      "metadata": {
        "id": "Mr2_R3hS6Zpq"
      }
    },
    {
      "cell_type": "code",
      "source": [
        "clf = DecisionTree(max_depth=10)\n",
        "clf.fit(X_train, y_train)"
      ],
      "metadata": {
        "id": "5Owxonj26eyV"
      },
      "execution_count": 7,
      "outputs": []
    },
    {
      "cell_type": "markdown",
      "source": [
        "3. Test the trained model using X_test and report the accuracy."
      ],
      "metadata": {
        "id": "HgH0zx7j7fKv"
      }
    },
    {
      "cell_type": "markdown",
      "source": [
        "Define the accuracy metric"
      ],
      "metadata": {
        "id": "2cdALglo7pJR"
      }
    },
    {
      "cell_type": "code",
      "source": [
        "def accuracy(y_true, y_pred):\n",
        "    accuracy = np.sum(y_true == y_pred) / len(y_true)\n",
        "    return accuracy"
      ],
      "metadata": {
        "id": "--qkSsmC7k7H"
      },
      "execution_count": 8,
      "outputs": []
    },
    {
      "cell_type": "markdown",
      "source": [
        "Evaluate the trained DecisionTree model using testing set\n"
      ],
      "metadata": {
        "id": "mV5XrYVK7sQ2"
      }
    },
    {
      "cell_type": "code",
      "source": [
        "y_pred = clf.predict(X_test)\n",
        "acc = accuracy(y_test, y_pred)\n",
        "\n",
        "print(\"Accuracy:\", acc)"
      ],
      "metadata": {
        "colab": {
          "base_uri": "https://localhost:8080/"
        },
        "id": "Yz5iENlO7y_P",
        "outputId": "36e0eff1-156c-4aaf-9d23-1ad036039212"
      },
      "execution_count": 9,
      "outputs": [
        {
          "output_type": "stream",
          "name": "stdout",
          "text": [
            "Accuracy: 0.9298245614035088\n"
          ]
        }
      ]
    },
    {
      "cell_type": "markdown",
      "source": [
        "\n",
        "\n",
        "---\n",
        "\n",
        "\n",
        "## 2-2. RandomForest with Titanic dataset\n",
        "\n",
        "\n",
        "---\n",
        "\n"
      ],
      "metadata": {
        "id": "1KYHKBiQ-icJ"
      }
    },
    {
      "cell_type": "markdown",
      "source": [
        "load dataset"
      ],
      "metadata": {
        "id": "X1cOSCMivNVY"
      }
    },
    {
      "cell_type": "code",
      "source": [
        "!wget --no-check-certificate 'https://docs.google.com/uc?export=download&id=1Z-IGKwjJ2z-tzJUFa9pWmG3BdMULbTqm' -O titanic.csv"
      ],
      "metadata": {
        "colab": {
          "base_uri": "https://localhost:8080/"
        },
        "id": "WDN4GJBAvOTZ",
        "outputId": "038905f6-b665-41f9-f81c-5da479e2982f"
      },
      "execution_count": 10,
      "outputs": [
        {
          "output_type": "stream",
          "name": "stdout",
          "text": [
            "--2022-12-01 14:12:01--  https://docs.google.com/uc?export=download&id=1Z-IGKwjJ2z-tzJUFa9pWmG3BdMULbTqm\n",
            "Resolving docs.google.com (docs.google.com)... 108.177.127.138, 108.177.127.100, 108.177.127.102, ...\n",
            "Connecting to docs.google.com (docs.google.com)|108.177.127.138|:443... connected.\n",
            "HTTP request sent, awaiting response... 303 See Other\n",
            "Location: https://doc-0s-7g-docs.googleusercontent.com/docs/securesc/ha0ro937gcuc7l7deffksulhg5h7mbp1/h36s6mcdaase9n634943hqiafdn1ehjn/1669903875000/12385986347045621890/*/1Z-IGKwjJ2z-tzJUFa9pWmG3BdMULbTqm?e=download&uuid=170f3055-3158-4581-9a3a-6963a370ff01 [following]\n",
            "Warning: wildcards not supported in HTTP.\n",
            "--2022-12-01 14:12:01--  https://doc-0s-7g-docs.googleusercontent.com/docs/securesc/ha0ro937gcuc7l7deffksulhg5h7mbp1/h36s6mcdaase9n634943hqiafdn1ehjn/1669903875000/12385986347045621890/*/1Z-IGKwjJ2z-tzJUFa9pWmG3BdMULbTqm?e=download&uuid=170f3055-3158-4581-9a3a-6963a370ff01\n",
            "Resolving doc-0s-7g-docs.googleusercontent.com (doc-0s-7g-docs.googleusercontent.com)... 142.250.145.132, 2a00:1450:4013:c14::84\n",
            "Connecting to doc-0s-7g-docs.googleusercontent.com (doc-0s-7g-docs.googleusercontent.com)|142.250.145.132|:443... connected.\n",
            "HTTP request sent, awaiting response... 200 OK\n",
            "Length: 60302 (59K) [text/csv]\n",
            "Saving to: ‘titanic.csv’\n",
            "\n",
            "titanic.csv         100%[===================>]  58.89K  --.-KB/s    in 0s      \n",
            "\n",
            "2022-12-01 14:12:02 (125 MB/s) - ‘titanic.csv’ saved [60302/60302]\n",
            "\n"
          ]
        }
      ]
    },
    {
      "cell_type": "markdown",
      "source": [
        "Overview the dataset\n",
        "\n",
        "*   data source: https://github.com/datasciencedojo/datasets/blob/master/titanic.csv\n",
        "*   'Survived' indicates whether or not the passenger survived"
      ],
      "metadata": {
        "id": "nGszkwHAvSNN"
      }
    },
    {
      "cell_type": "code",
      "source": [
        "import pandas as pd\n",
        "df2 = pd.read_csv('titanic.csv')\n",
        "df2.head()\n"
      ],
      "metadata": {
        "colab": {
          "base_uri": "https://localhost:8080/",
          "height": 204
        },
        "id": "inrqP172vSyF",
        "outputId": "a83b64e3-0196-40ab-e469-86729c8aac69"
      },
      "execution_count": 11,
      "outputs": [
        {
          "output_type": "execute_result",
          "data": {
            "text/plain": [
              "   PassengerId  Survived  Pclass  \\\n",
              "0            1         0       3   \n",
              "1            2         1       1   \n",
              "2            3         1       3   \n",
              "3            4         1       1   \n",
              "4            5         0       3   \n",
              "\n",
              "                                                Name     Sex   Age  SibSp  \\\n",
              "0                            Braund, Mr. Owen Harris    male  22.0      1   \n",
              "1  Cumings, Mrs. John Bradley (Florence Briggs Th...  female  38.0      1   \n",
              "2                             Heikkinen, Miss. Laina  female  26.0      0   \n",
              "3       Futrelle, Mrs. Jacques Heath (Lily May Peel)  female  35.0      1   \n",
              "4                           Allen, Mr. William Henry    male  35.0      0   \n",
              "\n",
              "   Parch            Ticket     Fare Cabin Embarked  \n",
              "0      0         A/5 21171   7.2500   NaN        S  \n",
              "1      0          PC 17599  71.2833   C85        C  \n",
              "2      0  STON/O2. 3101282   7.9250   NaN        S  \n",
              "3      0            113803  53.1000  C123        S  \n",
              "4      0            373450   8.0500   NaN        S  "
            ],
            "text/html": [
              "\n",
              "  <div id=\"df-da71e465-d6ee-40e5-888e-2b435888311c\">\n",
              "    <div class=\"colab-df-container\">\n",
              "      <div>\n",
              "<style scoped>\n",
              "    .dataframe tbody tr th:only-of-type {\n",
              "        vertical-align: middle;\n",
              "    }\n",
              "\n",
              "    .dataframe tbody tr th {\n",
              "        vertical-align: top;\n",
              "    }\n",
              "\n",
              "    .dataframe thead th {\n",
              "        text-align: right;\n",
              "    }\n",
              "</style>\n",
              "<table border=\"1\" class=\"dataframe\">\n",
              "  <thead>\n",
              "    <tr style=\"text-align: right;\">\n",
              "      <th></th>\n",
              "      <th>PassengerId</th>\n",
              "      <th>Survived</th>\n",
              "      <th>Pclass</th>\n",
              "      <th>Name</th>\n",
              "      <th>Sex</th>\n",
              "      <th>Age</th>\n",
              "      <th>SibSp</th>\n",
              "      <th>Parch</th>\n",
              "      <th>Ticket</th>\n",
              "      <th>Fare</th>\n",
              "      <th>Cabin</th>\n",
              "      <th>Embarked</th>\n",
              "    </tr>\n",
              "  </thead>\n",
              "  <tbody>\n",
              "    <tr>\n",
              "      <th>0</th>\n",
              "      <td>1</td>\n",
              "      <td>0</td>\n",
              "      <td>3</td>\n",
              "      <td>Braund, Mr. Owen Harris</td>\n",
              "      <td>male</td>\n",
              "      <td>22.0</td>\n",
              "      <td>1</td>\n",
              "      <td>0</td>\n",
              "      <td>A/5 21171</td>\n",
              "      <td>7.2500</td>\n",
              "      <td>NaN</td>\n",
              "      <td>S</td>\n",
              "    </tr>\n",
              "    <tr>\n",
              "      <th>1</th>\n",
              "      <td>2</td>\n",
              "      <td>1</td>\n",
              "      <td>1</td>\n",
              "      <td>Cumings, Mrs. John Bradley (Florence Briggs Th...</td>\n",
              "      <td>female</td>\n",
              "      <td>38.0</td>\n",
              "      <td>1</td>\n",
              "      <td>0</td>\n",
              "      <td>PC 17599</td>\n",
              "      <td>71.2833</td>\n",
              "      <td>C85</td>\n",
              "      <td>C</td>\n",
              "    </tr>\n",
              "    <tr>\n",
              "      <th>2</th>\n",
              "      <td>3</td>\n",
              "      <td>1</td>\n",
              "      <td>3</td>\n",
              "      <td>Heikkinen, Miss. Laina</td>\n",
              "      <td>female</td>\n",
              "      <td>26.0</td>\n",
              "      <td>0</td>\n",
              "      <td>0</td>\n",
              "      <td>STON/O2. 3101282</td>\n",
              "      <td>7.9250</td>\n",
              "      <td>NaN</td>\n",
              "      <td>S</td>\n",
              "    </tr>\n",
              "    <tr>\n",
              "      <th>3</th>\n",
              "      <td>4</td>\n",
              "      <td>1</td>\n",
              "      <td>1</td>\n",
              "      <td>Futrelle, Mrs. Jacques Heath (Lily May Peel)</td>\n",
              "      <td>female</td>\n",
              "      <td>35.0</td>\n",
              "      <td>1</td>\n",
              "      <td>0</td>\n",
              "      <td>113803</td>\n",
              "      <td>53.1000</td>\n",
              "      <td>C123</td>\n",
              "      <td>S</td>\n",
              "    </tr>\n",
              "    <tr>\n",
              "      <th>4</th>\n",
              "      <td>5</td>\n",
              "      <td>0</td>\n",
              "      <td>3</td>\n",
              "      <td>Allen, Mr. William Henry</td>\n",
              "      <td>male</td>\n",
              "      <td>35.0</td>\n",
              "      <td>0</td>\n",
              "      <td>0</td>\n",
              "      <td>373450</td>\n",
              "      <td>8.0500</td>\n",
              "      <td>NaN</td>\n",
              "      <td>S</td>\n",
              "    </tr>\n",
              "  </tbody>\n",
              "</table>\n",
              "</div>\n",
              "      <button class=\"colab-df-convert\" onclick=\"convertToInteractive('df-da71e465-d6ee-40e5-888e-2b435888311c')\"\n",
              "              title=\"Convert this dataframe to an interactive table.\"\n",
              "              style=\"display:none;\">\n",
              "        \n",
              "  <svg xmlns=\"http://www.w3.org/2000/svg\" height=\"24px\"viewBox=\"0 0 24 24\"\n",
              "       width=\"24px\">\n",
              "    <path d=\"M0 0h24v24H0V0z\" fill=\"none\"/>\n",
              "    <path d=\"M18.56 5.44l.94 2.06.94-2.06 2.06-.94-2.06-.94-.94-2.06-.94 2.06-2.06.94zm-11 1L8.5 8.5l.94-2.06 2.06-.94-2.06-.94L8.5 2.5l-.94 2.06-2.06.94zm10 10l.94 2.06.94-2.06 2.06-.94-2.06-.94-.94-2.06-.94 2.06-2.06.94z\"/><path d=\"M17.41 7.96l-1.37-1.37c-.4-.4-.92-.59-1.43-.59-.52 0-1.04.2-1.43.59L10.3 9.45l-7.72 7.72c-.78.78-.78 2.05 0 2.83L4 21.41c.39.39.9.59 1.41.59.51 0 1.02-.2 1.41-.59l7.78-7.78 2.81-2.81c.8-.78.8-2.07 0-2.86zM5.41 20L4 18.59l7.72-7.72 1.47 1.35L5.41 20z\"/>\n",
              "  </svg>\n",
              "      </button>\n",
              "      \n",
              "  <style>\n",
              "    .colab-df-container {\n",
              "      display:flex;\n",
              "      flex-wrap:wrap;\n",
              "      gap: 12px;\n",
              "    }\n",
              "\n",
              "    .colab-df-convert {\n",
              "      background-color: #E8F0FE;\n",
              "      border: none;\n",
              "      border-radius: 50%;\n",
              "      cursor: pointer;\n",
              "      display: none;\n",
              "      fill: #1967D2;\n",
              "      height: 32px;\n",
              "      padding: 0 0 0 0;\n",
              "      width: 32px;\n",
              "    }\n",
              "\n",
              "    .colab-df-convert:hover {\n",
              "      background-color: #E2EBFA;\n",
              "      box-shadow: 0px 1px 2px rgba(60, 64, 67, 0.3), 0px 1px 3px 1px rgba(60, 64, 67, 0.15);\n",
              "      fill: #174EA6;\n",
              "    }\n",
              "\n",
              "    [theme=dark] .colab-df-convert {\n",
              "      background-color: #3B4455;\n",
              "      fill: #D2E3FC;\n",
              "    }\n",
              "\n",
              "    [theme=dark] .colab-df-convert:hover {\n",
              "      background-color: #434B5C;\n",
              "      box-shadow: 0px 1px 3px 1px rgba(0, 0, 0, 0.15);\n",
              "      filter: drop-shadow(0px 1px 2px rgba(0, 0, 0, 0.3));\n",
              "      fill: #FFFFFF;\n",
              "    }\n",
              "  </style>\n",
              "\n",
              "      <script>\n",
              "        const buttonEl =\n",
              "          document.querySelector('#df-da71e465-d6ee-40e5-888e-2b435888311c button.colab-df-convert');\n",
              "        buttonEl.style.display =\n",
              "          google.colab.kernel.accessAllowed ? 'block' : 'none';\n",
              "\n",
              "        async function convertToInteractive(key) {\n",
              "          const element = document.querySelector('#df-da71e465-d6ee-40e5-888e-2b435888311c');\n",
              "          const dataTable =\n",
              "            await google.colab.kernel.invokeFunction('convertToInteractive',\n",
              "                                                     [key], {});\n",
              "          if (!dataTable) return;\n",
              "\n",
              "          const docLinkHtml = 'Like what you see? Visit the ' +\n",
              "            '<a target=\"_blank\" href=https://colab.research.google.com/notebooks/data_table.ipynb>data table notebook</a>'\n",
              "            + ' to learn more about interactive tables.';\n",
              "          element.innerHTML = '';\n",
              "          dataTable['output_type'] = 'display_data';\n",
              "          await google.colab.output.renderOutput(dataTable, element);\n",
              "          const docLink = document.createElement('div');\n",
              "          docLink.innerHTML = docLinkHtml;\n",
              "          element.appendChild(docLink);\n",
              "        }\n",
              "      </script>\n",
              "    </div>\n",
              "  </div>\n",
              "  "
            ]
          },
          "metadata": {},
          "execution_count": 11
        }
      ]
    },
    {
      "cell_type": "code",
      "source": [
        "print(df2.shape)"
      ],
      "metadata": {
        "colab": {
          "base_uri": "https://localhost:8080/"
        },
        "id": "Fuyw8nx3vZcs",
        "outputId": "c2b61ba4-ea90-4c78-cece-a0bd833aa1a7"
      },
      "execution_count": 12,
      "outputs": [
        {
          "output_type": "stream",
          "name": "stdout",
          "text": [
            "(891, 12)\n"
          ]
        }
      ]
    },
    {
      "cell_type": "markdown",
      "source": [
        "Data preprocessing"
      ],
      "metadata": {
        "id": "H2SYshPUyMTv"
      }
    },
    {
      "cell_type": "code",
      "source": [
        "print('\\nNull Values in data \\n{}'.format(df2.isnull().sum()))\n",
        "\n",
        "print('\\nDuplicated values in data {}'.format(df2.duplicated().sum()))"
      ],
      "metadata": {
        "colab": {
          "base_uri": "https://localhost:8080/"
        },
        "id": "qTuR98EFycia",
        "outputId": "9feb8417-d399-4ed8-f17d-169cd1aeeb15"
      },
      "execution_count": 13,
      "outputs": [
        {
          "output_type": "stream",
          "name": "stdout",
          "text": [
            "\n",
            "Null Values in data \n",
            "PassengerId      0\n",
            "Survived         0\n",
            "Pclass           0\n",
            "Name             0\n",
            "Sex              0\n",
            "Age            177\n",
            "SibSp            0\n",
            "Parch            0\n",
            "Ticket           0\n",
            "Fare             0\n",
            "Cabin          687\n",
            "Embarked         2\n",
            "dtype: int64\n",
            "\n",
            "Duplicated values in data 0\n"
          ]
        }
      ]
    },
    {
      "cell_type": "markdown",
      "source": [
        "Preprocess Embarked column"
      ],
      "metadata": {
        "id": "waGHeeIYyy4O"
      }
    },
    {
      "cell_type": "code",
      "source": [
        "print('Embarkation per ports \\n{}'.format(df2['Embarked'].value_counts()))\n",
        "\n",
        "# since the most common port is Southampton the chances are that the missing one is from there\n",
        "df2['Embarked'].fillna(value='S', inplace=True)\n",
        "\n",
        "print('Embarkation per ports after filling \\n{}'.format(df2['Embarked'].value_counts()))\n"
      ],
      "metadata": {
        "colab": {
          "base_uri": "https://localhost:8080/"
        },
        "id": "M8rPZj4Cy3us",
        "outputId": "fd465345-bb36-432a-84b0-c8017a7eef3d"
      },
      "execution_count": 14,
      "outputs": [
        {
          "output_type": "stream",
          "name": "stdout",
          "text": [
            "Embarkation per ports \n",
            "S    644\n",
            "C    168\n",
            "Q     77\n",
            "Name: Embarked, dtype: int64\n",
            "Embarkation per ports after filling \n",
            "S    646\n",
            "C    168\n",
            "Q     77\n",
            "Name: Embarked, dtype: int64\n"
          ]
        }
      ]
    },
    {
      "cell_type": "markdown",
      "source": [
        "Preprocess Age column"
      ],
      "metadata": {
        "id": "-WvmAL5zzGMJ"
      }
    },
    {
      "cell_type": "code",
      "source": [
        "mean_age_miss = df2[df2[\"Name\"].str.contains('Miss.', na=False)]['Age'].mean().round()\n",
        "mean_age_mrs = df2[df2[\"Name\"].str.contains('Mrs.', na=False)]['Age'].mean().round()\n",
        "mean_age_mr = df2[df2[\"Name\"].str.contains('Mr.', na=False)]['Age'].mean().round()\n",
        "mean_age_master = df2[df2[\"Name\"].str.contains('Master.', na=False)]['Age'].mean().round()\n",
        "\n",
        "print('Mean age of Miss. title {}'.format(mean_age_miss))\n",
        "print('Mean age of Mrs. title {}'.format(mean_age_mrs))\n",
        "print('Mean age of Mr. title {}'.format(mean_age_mr))\n",
        "print('Mean age of Master. title {}'.format(mean_age_master))\n",
        "\n",
        "def fill_age(name_age):\n",
        "    \n",
        "    name = name_age[0]\n",
        "    age = name_age[1]\n",
        "    \n",
        "    if pd.isnull(age):\n",
        "        if 'Mr.' in name:\n",
        "            return mean_age_mr\n",
        "        if 'Mrs.' in name:\n",
        "            return mean_age_mrs\n",
        "        if 'Miss.' in name:\n",
        "            return mean_age_miss\n",
        "        if 'Master.' in name:\n",
        "            return mean_age_master\n",
        "        if 'Dr.' in name:\n",
        "            return mean_age_master\n",
        "        if 'Ms.' in name:\n",
        "            return mean_age_miss\n",
        "    else:\n",
        "        return age\n",
        "\n",
        "df2['Age'] = df2[['Name', 'Age']].apply(fill_age,axis=1)"
      ],
      "metadata": {
        "colab": {
          "base_uri": "https://localhost:8080/"
        },
        "id": "Ae_l6yZ8zOoq",
        "outputId": "70aac608-acb5-4ccd-cd60-f4a9a3054ba3"
      },
      "execution_count": 15,
      "outputs": [
        {
          "output_type": "stream",
          "name": "stdout",
          "text": [
            "Mean age of Miss. title 22.0\n",
            "Mean age of Mrs. title 36.0\n",
            "Mean age of Mr. title 33.0\n",
            "Mean age of Master. title 5.0\n"
          ]
        }
      ]
    },
    {
      "cell_type": "markdown",
      "source": [
        "Preprocess Cabin column"
      ],
      "metadata": {
        "id": "sfyKNcj3z9G5"
      }
    },
    {
      "cell_type": "code",
      "source": [
        "df2['Cabin'] = pd.Series(['X' if pd.isnull(ii) else ii[0] for ii in df2['Cabin']])"
      ],
      "metadata": {
        "id": "SNR56Zrd0V-l"
      },
      "execution_count": 16,
      "outputs": []
    },
    {
      "cell_type": "code",
      "source": [
        "print('Mean Fare of Cabin B {}'.format(df2[df2['Cabin']=='B']['Fare'].mean()))\n",
        "print('Mean Fare of Cabin C {}'.format(df2[df2['Cabin']=='C']['Fare'].mean()))\n",
        "print('Mean Fare of Cabin D {}'.format(df2[df2['Cabin']=='D']['Fare'].mean()))\n",
        "print('Mean Fare of Cabin E {}'.format(df2[df2['Cabin']=='E']['Fare'].mean()))\n",
        "\n",
        "def reasign_cabin(cabin_fare):\n",
        "    \n",
        "    cabin = cabin_fare[0]\n",
        "    fare = cabin_fare[1]\n",
        "    \n",
        "    if cabin=='X':\n",
        "        if (fare >= 113.5):\n",
        "            return 'B'\n",
        "        if ((fare < 113.5) and (fare > 100)):\n",
        "            return 'C'\n",
        "        if ((fare < 100) and (fare > 57)):\n",
        "            return 'D'\n",
        "        if ((fare < 57) and (fare > 46)):\n",
        "            return 'D'\n",
        "        else:\n",
        "            return 'X'\n",
        "    else:\n",
        "        return cabin\n",
        "      \n",
        "df2['Cabin'] = df2[['Cabin', 'Fare']].apply(reasign_cabin, axis=1)"
      ],
      "metadata": {
        "colab": {
          "base_uri": "https://localhost:8080/"
        },
        "id": "k7o117bWz-8q",
        "outputId": "9b17c232-d7a4-48e6-f865-45554b9b0763"
      },
      "execution_count": 17,
      "outputs": [
        {
          "output_type": "stream",
          "name": "stdout",
          "text": [
            "Mean Fare of Cabin B 113.50576382978724\n",
            "Mean Fare of Cabin C 100.1513406779661\n",
            "Mean Fare of Cabin D 57.24457575757575\n",
            "Mean Fare of Cabin E 46.02669375\n"
          ]
        }
      ]
    },
    {
      "cell_type": "code",
      "source": [
        "# Check again if any col holds NULL\n",
        "print('\\nNull Values in data \\n{}'.format(df2.isnull().sum()))"
      ],
      "metadata": {
        "id": "i40IFY_704XM",
        "colab": {
          "base_uri": "https://localhost:8080/"
        },
        "outputId": "ca86301e-0d76-4e0f-9adf-45b2c0555190"
      },
      "execution_count": 18,
      "outputs": [
        {
          "output_type": "stream",
          "name": "stdout",
          "text": [
            "\n",
            "Null Values in data \n",
            "PassengerId    0\n",
            "Survived       0\n",
            "Pclass         0\n",
            "Name           0\n",
            "Sex            0\n",
            "Age            0\n",
            "SibSp          0\n",
            "Parch          0\n",
            "Ticket         0\n",
            "Fare           0\n",
            "Cabin          0\n",
            "Embarked       0\n",
            "dtype: int64\n"
          ]
        }
      ]
    },
    {
      "cell_type": "markdown",
      "source": [
        "Lastly, change the categorical features into numerical values"
      ],
      "metadata": {
        "id": "D_fVvCaW1dhs"
      }
    },
    {
      "cell_type": "code",
      "source": [
        "categories = {\"female\": 1, \"male\": 0}\n",
        "df2['Sex']= df2['Sex'].map(categories)\n",
        "\n",
        "categories = {\"S\": 1, \"C\": 2, \"Q\": 3}\n",
        "df2['Embarked']= df2['Embarked'].map(categories)\n",
        "\n",
        "categories = {\"X\": 1, \"C\": 2, \"E\": 3, \"G\": 4, \"D\": 5, \"A\": 6, \"B\": 7, \"F\": 8, \"T\": 9}\n",
        "df2['Cabin'] = df2['Cabin'].map(categories)"
      ],
      "metadata": {
        "id": "NbB_T5ac1hbz"
      },
      "execution_count": 19,
      "outputs": []
    },
    {
      "cell_type": "markdown",
      "source": [
        "Drop unnecessary columns"
      ],
      "metadata": {
        "id": "vKVeDRls2WZw"
      }
    },
    {
      "cell_type": "code",
      "source": [
        "# dropping columns\n",
        "df2 = df2.drop(['Name','Ticket','PassengerId'], axis=1)"
      ],
      "metadata": {
        "id": "SCuxHHjC2kkw"
      },
      "execution_count": 20,
      "outputs": []
    },
    {
      "cell_type": "code",
      "source": [
        "df2.head()"
      ],
      "metadata": {
        "colab": {
          "base_uri": "https://localhost:8080/",
          "height": 204
        },
        "id": "DDM6xmJv2lQ5",
        "outputId": "87b90ef3-fce4-4dfc-a16b-b273077d42f3"
      },
      "execution_count": 21,
      "outputs": [
        {
          "output_type": "execute_result",
          "data": {
            "text/plain": [
              "   Survived  Pclass  Sex   Age  SibSp  Parch     Fare  Cabin  Embarked\n",
              "0         0       3    0  22.0      1      0   7.2500      1         1\n",
              "1         1       1    1  38.0      1      0  71.2833      2         2\n",
              "2         1       3    1  26.0      0      0   7.9250      1         1\n",
              "3         1       1    1  35.0      1      0  53.1000      2         1\n",
              "4         0       3    0  35.0      0      0   8.0500      1         1"
            ],
            "text/html": [
              "\n",
              "  <div id=\"df-067416d1-c41c-4181-814b-dd13d2e52203\">\n",
              "    <div class=\"colab-df-container\">\n",
              "      <div>\n",
              "<style scoped>\n",
              "    .dataframe tbody tr th:only-of-type {\n",
              "        vertical-align: middle;\n",
              "    }\n",
              "\n",
              "    .dataframe tbody tr th {\n",
              "        vertical-align: top;\n",
              "    }\n",
              "\n",
              "    .dataframe thead th {\n",
              "        text-align: right;\n",
              "    }\n",
              "</style>\n",
              "<table border=\"1\" class=\"dataframe\">\n",
              "  <thead>\n",
              "    <tr style=\"text-align: right;\">\n",
              "      <th></th>\n",
              "      <th>Survived</th>\n",
              "      <th>Pclass</th>\n",
              "      <th>Sex</th>\n",
              "      <th>Age</th>\n",
              "      <th>SibSp</th>\n",
              "      <th>Parch</th>\n",
              "      <th>Fare</th>\n",
              "      <th>Cabin</th>\n",
              "      <th>Embarked</th>\n",
              "    </tr>\n",
              "  </thead>\n",
              "  <tbody>\n",
              "    <tr>\n",
              "      <th>0</th>\n",
              "      <td>0</td>\n",
              "      <td>3</td>\n",
              "      <td>0</td>\n",
              "      <td>22.0</td>\n",
              "      <td>1</td>\n",
              "      <td>0</td>\n",
              "      <td>7.2500</td>\n",
              "      <td>1</td>\n",
              "      <td>1</td>\n",
              "    </tr>\n",
              "    <tr>\n",
              "      <th>1</th>\n",
              "      <td>1</td>\n",
              "      <td>1</td>\n",
              "      <td>1</td>\n",
              "      <td>38.0</td>\n",
              "      <td>1</td>\n",
              "      <td>0</td>\n",
              "      <td>71.2833</td>\n",
              "      <td>2</td>\n",
              "      <td>2</td>\n",
              "    </tr>\n",
              "    <tr>\n",
              "      <th>2</th>\n",
              "      <td>1</td>\n",
              "      <td>3</td>\n",
              "      <td>1</td>\n",
              "      <td>26.0</td>\n",
              "      <td>0</td>\n",
              "      <td>0</td>\n",
              "      <td>7.9250</td>\n",
              "      <td>1</td>\n",
              "      <td>1</td>\n",
              "    </tr>\n",
              "    <tr>\n",
              "      <th>3</th>\n",
              "      <td>1</td>\n",
              "      <td>1</td>\n",
              "      <td>1</td>\n",
              "      <td>35.0</td>\n",
              "      <td>1</td>\n",
              "      <td>0</td>\n",
              "      <td>53.1000</td>\n",
              "      <td>2</td>\n",
              "      <td>1</td>\n",
              "    </tr>\n",
              "    <tr>\n",
              "      <th>4</th>\n",
              "      <td>0</td>\n",
              "      <td>3</td>\n",
              "      <td>0</td>\n",
              "      <td>35.0</td>\n",
              "      <td>0</td>\n",
              "      <td>0</td>\n",
              "      <td>8.0500</td>\n",
              "      <td>1</td>\n",
              "      <td>1</td>\n",
              "    </tr>\n",
              "  </tbody>\n",
              "</table>\n",
              "</div>\n",
              "      <button class=\"colab-df-convert\" onclick=\"convertToInteractive('df-067416d1-c41c-4181-814b-dd13d2e52203')\"\n",
              "              title=\"Convert this dataframe to an interactive table.\"\n",
              "              style=\"display:none;\">\n",
              "        \n",
              "  <svg xmlns=\"http://www.w3.org/2000/svg\" height=\"24px\"viewBox=\"0 0 24 24\"\n",
              "       width=\"24px\">\n",
              "    <path d=\"M0 0h24v24H0V0z\" fill=\"none\"/>\n",
              "    <path d=\"M18.56 5.44l.94 2.06.94-2.06 2.06-.94-2.06-.94-.94-2.06-.94 2.06-2.06.94zm-11 1L8.5 8.5l.94-2.06 2.06-.94-2.06-.94L8.5 2.5l-.94 2.06-2.06.94zm10 10l.94 2.06.94-2.06 2.06-.94-2.06-.94-.94-2.06-.94 2.06-2.06.94z\"/><path d=\"M17.41 7.96l-1.37-1.37c-.4-.4-.92-.59-1.43-.59-.52 0-1.04.2-1.43.59L10.3 9.45l-7.72 7.72c-.78.78-.78 2.05 0 2.83L4 21.41c.39.39.9.59 1.41.59.51 0 1.02-.2 1.41-.59l7.78-7.78 2.81-2.81c.8-.78.8-2.07 0-2.86zM5.41 20L4 18.59l7.72-7.72 1.47 1.35L5.41 20z\"/>\n",
              "  </svg>\n",
              "      </button>\n",
              "      \n",
              "  <style>\n",
              "    .colab-df-container {\n",
              "      display:flex;\n",
              "      flex-wrap:wrap;\n",
              "      gap: 12px;\n",
              "    }\n",
              "\n",
              "    .colab-df-convert {\n",
              "      background-color: #E8F0FE;\n",
              "      border: none;\n",
              "      border-radius: 50%;\n",
              "      cursor: pointer;\n",
              "      display: none;\n",
              "      fill: #1967D2;\n",
              "      height: 32px;\n",
              "      padding: 0 0 0 0;\n",
              "      width: 32px;\n",
              "    }\n",
              "\n",
              "    .colab-df-convert:hover {\n",
              "      background-color: #E2EBFA;\n",
              "      box-shadow: 0px 1px 2px rgba(60, 64, 67, 0.3), 0px 1px 3px 1px rgba(60, 64, 67, 0.15);\n",
              "      fill: #174EA6;\n",
              "    }\n",
              "\n",
              "    [theme=dark] .colab-df-convert {\n",
              "      background-color: #3B4455;\n",
              "      fill: #D2E3FC;\n",
              "    }\n",
              "\n",
              "    [theme=dark] .colab-df-convert:hover {\n",
              "      background-color: #434B5C;\n",
              "      box-shadow: 0px 1px 3px 1px rgba(0, 0, 0, 0.15);\n",
              "      filter: drop-shadow(0px 1px 2px rgba(0, 0, 0, 0.3));\n",
              "      fill: #FFFFFF;\n",
              "    }\n",
              "  </style>\n",
              "\n",
              "      <script>\n",
              "        const buttonEl =\n",
              "          document.querySelector('#df-067416d1-c41c-4181-814b-dd13d2e52203 button.colab-df-convert');\n",
              "        buttonEl.style.display =\n",
              "          google.colab.kernel.accessAllowed ? 'block' : 'none';\n",
              "\n",
              "        async function convertToInteractive(key) {\n",
              "          const element = document.querySelector('#df-067416d1-c41c-4181-814b-dd13d2e52203');\n",
              "          const dataTable =\n",
              "            await google.colab.kernel.invokeFunction('convertToInteractive',\n",
              "                                                     [key], {});\n",
              "          if (!dataTable) return;\n",
              "\n",
              "          const docLinkHtml = 'Like what you see? Visit the ' +\n",
              "            '<a target=\"_blank\" href=https://colab.research.google.com/notebooks/data_table.ipynb>data table notebook</a>'\n",
              "            + ' to learn more about interactive tables.';\n",
              "          element.innerHTML = '';\n",
              "          dataTable['output_type'] = 'display_data';\n",
              "          await google.colab.output.renderOutput(dataTable, element);\n",
              "          const docLink = document.createElement('div');\n",
              "          docLink.innerHTML = docLinkHtml;\n",
              "          element.appendChild(docLink);\n",
              "        }\n",
              "      </script>\n",
              "    </div>\n",
              "  </div>\n",
              "  "
            ]
          },
          "metadata": {},
          "execution_count": 21
        }
      ]
    },
    {
      "cell_type": "code",
      "source": [
        "df2.columns"
      ],
      "metadata": {
        "colab": {
          "base_uri": "https://localhost:8080/"
        },
        "id": "b3QLEIKRObo0",
        "outputId": "546f6607-30f5-45cc-e1fa-3be781026e95"
      },
      "execution_count": 22,
      "outputs": [
        {
          "output_type": "execute_result",
          "data": {
            "text/plain": [
              "Index(['Survived', 'Pclass', 'Sex', 'Age', 'SibSp', 'Parch', 'Fare', 'Cabin',\n",
              "       'Embarked'],\n",
              "      dtype='object')"
            ]
          },
          "metadata": {},
          "execution_count": 22
        }
      ]
    },
    {
      "cell_type": "code",
      "source": [
        "from sklearn.preprocessing import StandardScaler\n",
        "def scaler_samples(train_X,test_X):\n",
        "  scaler = StandardScaler()\n",
        "  train_X = scaler.fit_transform(train_X)\n",
        "  test_X = scaler.transform(test_X)\n",
        "\n",
        "  return train_X, test_X"
      ],
      "metadata": {
        "id": "AE2ougJF3MDV"
      },
      "execution_count": 23,
      "outputs": []
    },
    {
      "cell_type": "markdown",
      "source": [
        "## Goal: Train the RandomForest classifier with preprocessed Titanic dataset to determine whether people survive or not.\n",
        "❗❗READ CAREFULLY ⬇\n",
        "\n",
        "*   Use scikit-learn library to build the RandomForest classifier and compute the feature importance scores\n",
        "*   TO-DO:\n",
        "  \n",
        "  1. Split the dataset (train:test=80:20).\n",
        "  2. Use provided `StandardScaler` function to normalize the data\n",
        "  3. Train the RandomForest model using training data. Use the following parameters:\n",
        "    *   n_estimators=20, \n",
        "    *   criterion=\"entropy\"\n",
        "  4. Test the trained model using testing data and report the accuracy and confusion matrix. (Note that to derive the confusion matrix, use scikit-learn library, `sklearn.metrics.confusion_matrix`)\n",
        "  5. Report the feature rankings with importance scores using the bar plot using barplot provided by `seaborn` library. \n",
        "  6. Use hyperparameter tuning with `GridSearchCV` to explore the grid ('n_estimators': [20, 50, 100, 200], 'criterion' :['gini', 'entropy']). Then, report the best parameters, the model accuracy, and confusion matrix. Discuss how much chosen parameters can help improve the model performance in Step 4."
      ],
      "metadata": {
        "id": "Ic82tzSD3koA"
      }
    },
    {
      "cell_type": "markdown",
      "source": [
        "## Assignment\n"
      ],
      "metadata": {
        "id": "VGbHLS7-PmT8"
      }
    },
    {
      "cell_type": "code",
      "source": [
        "LABEL = 'Survived'\n",
        "y = df2[LABEL]"
      ],
      "metadata": {
        "id": "qesNmBmEGiZG"
      },
      "execution_count": 61,
      "outputs": []
    },
    {
      "cell_type": "code",
      "source": [
        "X = df2.drop(LABEL, axis=1)"
      ],
      "metadata": {
        "id": "2QeYQ7QYHP4A"
      },
      "execution_count": 62,
      "outputs": []
    },
    {
      "cell_type": "markdown",
      "source": [
        "1. Split the dataset (train:test=80:20)."
      ],
      "metadata": {
        "id": "aOteh_emPpgl"
      }
    },
    {
      "cell_type": "code",
      "source": [
        "import numpy as np\n",
        "from sklearn.model_selection import train_test_split"
      ],
      "metadata": {
        "id": "mPfrT39IPmEk"
      },
      "execution_count": 64,
      "outputs": []
    },
    {
      "cell_type": "code",
      "source": [
        "X_train, X_test, y_train, y_test = train_test_split(\n",
        "    X, y, test_size=0.2, random_state=1\n",
        ")"
      ],
      "metadata": {
        "id": "niScT-AvP5xN"
      },
      "execution_count": 63,
      "outputs": []
    },
    {
      "cell_type": "markdown",
      "source": [
        "2. Use provided StandardScaler function to normalize the data"
      ],
      "metadata": {
        "id": "GGMcWl_2P5Az"
      }
    },
    {
      "cell_type": "code",
      "source": [
        "from sklearn.preprocessing import StandardScaler\n",
        "def scaler_samples(train_X):\n",
        "  scaler = StandardScaler()\n",
        "  train_X = scaler.fit_transform(X)\n",
        "\n",
        "  return train_X"
      ],
      "metadata": {
        "id": "n01qOPzAQ-9R"
      },
      "execution_count": 65,
      "outputs": []
    },
    {
      "cell_type": "code",
      "source": [
        "scaled_X = scaler_samples(X)"
      ],
      "metadata": {
        "id": "o0MyDsWZFXNI"
      },
      "execution_count": 66,
      "outputs": []
    },
    {
      "cell_type": "markdown",
      "source": [
        "3. Train the RandomForest model using training data. Use the following parameters:\n",
        "n_estimators=20,\n",
        "criterion=\"entropy\""
      ],
      "metadata": {
        "id": "xCmVnSXLRCBc"
      }
    },
    {
      "cell_type": "code",
      "source": [
        "from sklearn.ensemble import RandomForestClassifier\n",
        "from sklearn import metrics\n",
        "from sklearn.model_selection import train_test_split\n",
        "from sklearn.metrics import classification_report\n",
        "from sklearn.metrics import confusion_matrix\n",
        "\n",
        "X_train, X_test, y_train, y_test = train_test_split(X_train, y_train, test_size=0.2)\n",
        "print(X_train.shape, X_test.shape)\n",
        "print(y_train.shape, y_test.shape)\n",
        "\n",
        "clf = RandomForestClassifier(n_estimators=20, criterion='entropy')\n",
        "\n",
        "#Train the model using the training sets y_pred=clf.predict(X_test)\n",
        "clf.fit(X_train, y_train)"
      ],
      "metadata": {
        "colab": {
          "base_uri": "https://localhost:8080/"
        },
        "id": "hzXw9euiELC-",
        "outputId": "d28822da-fabf-46a7-a66a-6213915c5fde"
      },
      "execution_count": 67,
      "outputs": [
        {
          "output_type": "stream",
          "name": "stdout",
          "text": [
            "(569, 8) (143, 8)\n",
            "(569,) (143,)\n"
          ]
        },
        {
          "output_type": "execute_result",
          "data": {
            "text/plain": [
              "RandomForestClassifier(criterion='entropy', n_estimators=20)"
            ]
          },
          "metadata": {},
          "execution_count": 67
        }
      ]
    },
    {
      "cell_type": "markdown",
      "source": [
        "4. Test the trained model using testing data and report the accuracy and confusion matrix. (Note that to derive the confusion matrix, use scikit-learn library, sklearn.metrics.confusion_matrix)"
      ],
      "metadata": {
        "id": "0usL773HWI-D"
      }
    },
    {
      "cell_type": "code",
      "source": [
        "y_pred = clf.predict(X_test)\n",
        "print('Accuracy: %.4f' % accuracy(y_test, y_pred))"
      ],
      "metadata": {
        "colab": {
          "base_uri": "https://localhost:8080/"
        },
        "id": "32PUlRwVWLAR",
        "outputId": "f1498931-f656-4329-b7c8-9c5756f9d80c"
      },
      "execution_count": 86,
      "outputs": [
        {
          "output_type": "stream",
          "name": "stdout",
          "text": [
            "Accuracy: 0.8042\n"
          ]
        }
      ]
    },
    {
      "cell_type": "code",
      "source": [
        "from sklearn.metrics import confusion_matrix\n",
        "cf = confusion_matrix(y_test, y_pred)\n",
        "print(cf)"
      ],
      "metadata": {
        "colab": {
          "base_uri": "https://localhost:8080/"
        },
        "id": "xVtDIzCEMC2A",
        "outputId": "8c042a9e-6a01-47aa-96a1-ca13c39315df"
      },
      "execution_count": 100,
      "outputs": [
        {
          "output_type": "stream",
          "name": "stdout",
          "text": [
            "[[78 14]\n",
            " [14 37]]\n"
          ]
        }
      ]
    },
    {
      "cell_type": "markdown",
      "source": [
        "5. Report the feature rankings with importance scores using the bar plot using barplot provided by seaborn library."
      ],
      "metadata": {
        "id": "yrGDMF23WKq8"
      }
    },
    {
      "cell_type": "code",
      "source": [
        "df2_columns = df2.drop(['Survived'], axis = 1)"
      ],
      "metadata": {
        "id": "LjE_n_WqO1Cc"
      },
      "execution_count": 95,
      "outputs": []
    },
    {
      "cell_type": "code",
      "source": [
        "import matplotlib.pyplot as plt\n",
        "import seaborn as sns\n",
        "feature_imp = pd.Series(clf.feature_importances_, index=df2_columns.columns).sort_values(ascending=False)\n",
        "\n",
        "#print(\"Accuracy: {}\".format(metrics.accuracy_score(y_test, y_pred)))\n",
        "\n",
        "plt.figure(figsize=(10,6))\n",
        "sns.barplot(x=feature_imp, y=feature_imp.index)\n",
        "# Add labels to your graph\n",
        "plt.xlabel('Feature Importance Score')\n",
        "plt.ylabel('Features')\n",
        "plt.title(\"Visualizing Important Features\")\n",
        "plt.tight_layout()"
      ],
      "metadata": {
        "colab": {
          "base_uri": "https://localhost:8080/",
          "height": 441
        },
        "id": "lOjijvVmjn0I",
        "outputId": "de313318-ec8a-4d92-8970-60012e1bca82"
      },
      "execution_count": 99,
      "outputs": [
        {
          "output_type": "display_data",
          "data": {
            "text/plain": [
              "<Figure size 720x432 with 1 Axes>"
            ],
            "image/png": "[encoded data removed]"
          },
          "metadata": {
            "needs_background": "light"
          }
        }
      ]
    },
    {
      "cell_type": "markdown",
      "source": [
        "\n",
        "6. Use hyperparameter tuning with GridSearchCV to explore the grid ('n_estimators': [20, 50, 100, 200], 'criterion' :['gini', 'entropy']). Then, report the best parameters, the model accuracy, and confusion matrix. Discuss how much chosen parameters can help improve the model performance in Step 4."
      ],
      "metadata": {
        "id": "VtZpId5fWflu"
      }
    },
    {
      "cell_type": "code",
      "source": [
        "from sklearn.model_selection import GridSearchCV\n",
        "\n",
        "param_tree = {\n",
        "    'n_estimators': [20, 50, 100, 200], \n",
        "    'criterion' :['gini', 'entropy']\n",
        "}\n",
        "gsdtree =  GridSearchCV (estimator =  clf, param_grid = param_tree, scoring ='accuracy', cv = 3, refit=True, n_jobs=1, verbose=2)\n",
        "gsdtree.fit(X_train, y_train)"
      ],
      "metadata": {
        "id": "cu9gMnzOeBPA",
        "colab": {
          "base_uri": "https://localhost:8080/"
        },
        "outputId": "894bbb68-dd99-47c9-e4c6-ea0c77af6f0a"
      },
      "execution_count": 81,
      "outputs": [
        {
          "output_type": "stream",
          "name": "stdout",
          "text": [
            "Fitting 3 folds for each of 8 candidates, totalling 24 fits\n",
            "[CV] END ....................criterion=gini, n_estimators=20; total time=   0.1s\n",
            "[CV] END ....................criterion=gini, n_estimators=20; total time=   0.1s\n",
            "[CV] END ....................criterion=gini, n_estimators=20; total time=   0.1s\n",
            "[CV] END ....................criterion=gini, n_estimators=50; total time=   0.2s\n",
            "[CV] END ....................criterion=gini, n_estimators=50; total time=   0.1s\n",
            "[CV] END ....................criterion=gini, n_estimators=50; total time=   0.2s\n",
            "[CV] END ...................criterion=gini, n_estimators=100; total time=   0.4s\n",
            "[CV] END ...................criterion=gini, n_estimators=100; total time=   0.6s\n",
            "[CV] END ...................criterion=gini, n_estimators=100; total time=   0.4s\n",
            "[CV] END ...................criterion=gini, n_estimators=200; total time=   0.3s\n",
            "[CV] END ...................criterion=gini, n_estimators=200; total time=   0.3s\n",
            "[CV] END ...................criterion=gini, n_estimators=200; total time=   0.3s\n",
            "[CV] END .................criterion=entropy, n_estimators=20; total time=   0.0s\n",
            "[CV] END .................criterion=entropy, n_estimators=20; total time=   0.1s\n",
            "[CV] END .................criterion=entropy, n_estimators=20; total time=   0.1s\n",
            "[CV] END .................criterion=entropy, n_estimators=50; total time=   0.2s\n",
            "[CV] END .................criterion=entropy, n_estimators=50; total time=   0.2s\n",
            "[CV] END .................criterion=entropy, n_estimators=50; total time=   0.2s\n",
            "[CV] END ................criterion=entropy, n_estimators=100; total time=   0.7s\n",
            "[CV] END ................criterion=entropy, n_estimators=100; total time=   0.7s\n",
            "[CV] END ................criterion=entropy, n_estimators=100; total time=   0.3s\n",
            "[CV] END ................criterion=entropy, n_estimators=200; total time=   0.3s\n",
            "[CV] END ................criterion=entropy, n_estimators=200; total time=   0.3s\n",
            "[CV] END ................criterion=entropy, n_estimators=200; total time=   0.3s\n"
          ]
        },
        {
          "output_type": "execute_result",
          "data": {
            "text/plain": [
              "GridSearchCV(cv=3,\n",
              "             estimator=RandomForestClassifier(criterion='entropy',\n",
              "                                              n_estimators=20),\n",
              "             n_jobs=1,\n",
              "             param_grid={'criterion': ['gini', 'entropy'],\n",
              "                         'n_estimators': [20, 50, 100, 200]},\n",
              "             scoring='accuracy', verbose=2)"
            ]
          },
          "metadata": {},
          "execution_count": 81
        }
      ]
    },
    {
      "cell_type": "code",
      "source": [
        "print('best parameter : ', gsdtree.best_params_)"
      ],
      "metadata": {
        "colab": {
          "base_uri": "https://localhost:8080/"
        },
        "id": "7N-rtfVQWi1x",
        "outputId": "2b4afdf3-4448-4a73-a5cc-bd10185017c0"
      },
      "execution_count": 82,
      "outputs": [
        {
          "output_type": "stream",
          "name": "stdout",
          "text": [
            "best parameter :  {'criterion': 'gini', 'n_estimators': 20}\n"
          ]
        }
      ]
    },
    {
      "cell_type": "code",
      "source": [
        "print('accuracy: {:.4f}'.format(gsdtree.best_score_))"
      ],
      "metadata": {
        "colab": {
          "base_uri": "https://localhost:8080/"
        },
        "id": "gfYYqaA3VAgj",
        "outputId": "24b296db-64e8-4c61-e4f2-a07c6f19b9e9"
      },
      "execution_count": 83,
      "outputs": [
        {
          "output_type": "stream",
          "name": "stdout",
          "text": [
            "accuracy: 0.8172\n"
          ]
        }
      ]
    },
    {
      "cell_type": "code",
      "source": [
        "y_pred2 = gsdtree.predict(X_test)"
      ],
      "metadata": {
        "id": "51KdX-GQX4bI"
      },
      "execution_count": 84,
      "outputs": []
    },
    {
      "cell_type": "code",
      "source": [
        "from sklearn.metrics import confusion_matrix\n",
        "cf2 = confusion_matrix(y_test, y_pred2)\n",
        "print(cf2)"
      ],
      "metadata": {
        "colab": {
          "base_uri": "https://localhost:8080/"
        },
        "id": "9c5tXV8GYE95",
        "outputId": "f2e48479-f144-4b42-dbe7-408477f60e8f"
      },
      "execution_count": 85,
      "outputs": [
        {
          "output_type": "stream",
          "name": "stdout",
          "text": [
            "[[78 14]\n",
            " [15 36]]\n"
          ]
        }
      ]
    },
    {
      "cell_type": "markdown",
      "source": [
        "According to confusion matrix, True negative is larger that when we use GridSearchCV. So the accuacy of model is larger than the former one."
      ],
      "metadata": {
        "id": "hzrqPmudMlqk"
      }
    }
  ]
}